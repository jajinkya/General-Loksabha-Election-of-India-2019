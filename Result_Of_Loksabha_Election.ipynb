{
  "nbformat": 4,
  "nbformat_minor": 0,
  "metadata": {
    "colab": {
      "name": "Result_Of_Loksabha_Election.ipynb",
      "version": "0.3.2",
      "provenance": [],
      "collapsed_sections": [],
      "include_colab_link": true
    },
    "kernelspec": {
      "name": "python3",
      "display_name": "Python 3"
    }
  },
  "cells": [
    {
      "cell_type": "markdown",
      "metadata": {
        "id": "view-in-github",
        "colab_type": "text"
      },
      "source": [
        "<a href=\"https://colab.research.google.com/github/jajinkya/General-Loksabha-Election-of-India-2019/blob/master/Result_Of_Loksabha_Election.ipynb\" target=\"_parent\"><img src=\"https://colab.research.google.com/assets/colab-badge.svg\" alt=\"Open In Colab\"/></a>"
      ]
    },
    {
      "cell_type": "markdown",
      "metadata": {
        "id": "ndAaXUTN6Wwp",
        "colab_type": "text"
      },
      "source": [
        "## Election data download "
      ]
    },
    {
      "cell_type": "code",
      "metadata": {
        "id": "7ugCLWVRSul_",
        "colab_type": "code",
        "outputId": "756a0bbd-1544-4afc-c0b2-48c7e63228c2",
        "colab": {
          "resources": {
            "http://localhost:8080/nbextensions/google.colab/files.js": {
              "data": "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",
              "ok": true,
              "headers": [
                [
                  "content-type",
                  "application/javascript"
                ]
              ],
              "status": 200,
              "status_text": ""
            }
          },
          "base_uri": "https://localhost:8080/",
          "height": 93
        }
      },
      "source": [
        "from google.colab import files\n",
        "\n",
        "uploaded = files.upload()\n",
        "\n",
        "for fn in uploaded.keys():\n",
        "  print('User uploaded file \"{name}\" with length {length} bytes'.format(\n",
        "      name=fn, length=len(uploaded[fn])))"
      ],
      "execution_count": 1,
      "outputs": [
        {
          "output_type": "display_data",
          "data": {
            "text/html": [
              "\n",
              "     <input type=\"file\" id=\"files-904894f8-5063-4eef-b2cd-c57cadc2aa64\" name=\"files[]\" multiple disabled />\n",
              "     <output id=\"result-904894f8-5063-4eef-b2cd-c57cadc2aa64\">\n",
              "      Upload widget is only available when the cell has been executed in the\n",
              "      current browser session. Please rerun this cell to enable.\n",
              "      </output>\n",
              "      <script src=\"/nbextensions/google.colab/files.js\"></script> "
            ],
            "text/plain": [
              "<IPython.core.display.HTML object>"
            ]
          },
          "metadata": {
            "tags": []
          }
        },
        {
          "output_type": "stream",
          "text": [
            "Saving Winning Candidate of 17th Lok Sabha.csv to Winning Candidate of 17th Lok Sabha (1).csv\n",
            "User uploaded file \"Winning Candidate of 17th Lok Sabha.csv\" with length 40688 bytes\n"
          ],
          "name": "stdout"
        }
      ]
    },
    {
      "cell_type": "markdown",
      "metadata": {
        "id": "KLVi09ux6mzr",
        "colab_type": "text"
      },
      "source": [
        ""
      ]
    },
    {
      "cell_type": "markdown",
      "metadata": {
        "id": "bJ5_1KvG6pIA",
        "colab_type": "text"
      },
      "source": [
        "## Convert it into  Dataframe"
      ]
    },
    {
      "cell_type": "code",
      "metadata": {
        "id": "CcgFVE3OSvt7",
        "colab_type": "code",
        "outputId": "8f688d34-d05b-4b15-8e10-9f1a562883f5",
        "colab": {
          "base_uri": "https://localhost:8080/",
          "height": 198
        }
      },
      "source": [
        "import pandas as pd \n",
        "election = pd.read_csv(\"Winning Candidate of 17th Lok Sabha.csv\")\n",
        "election.head()"
      ],
      "execution_count": 2,
      "outputs": [
        {
          "output_type": "execute_result",
          "data": {
            "text/html": [
              "<div>\n",
              "<style scoped>\n",
              "    .dataframe tbody tr th:only-of-type {\n",
              "        vertical-align: middle;\n",
              "    }\n",
              "\n",
              "    .dataframe tbody tr th {\n",
              "        vertical-align: top;\n",
              "    }\n",
              "\n",
              "    .dataframe thead th {\n",
              "        text-align: right;\n",
              "    }\n",
              "</style>\n",
              "<table border=\"1\" class=\"dataframe\">\n",
              "  <thead>\n",
              "    <tr style=\"text-align: right;\">\n",
              "      <th></th>\n",
              "      <th>Sl. No.</th>\n",
              "      <th>No. and Name of Parliamentary\rConstituency</th>\n",
              "      <th>Name of the Elected\rMember</th>\n",
              "      <th>Party Affiliation\r(if any)</th>\n",
              "      <th>State</th>\n",
              "    </tr>\n",
              "  </thead>\n",
              "  <tbody>\n",
              "    <tr>\n",
              "      <th>0</th>\n",
              "      <td>1</td>\n",
              "      <td>1-\\rAraku (ST)</td>\n",
              "      <td>Goddeti. Madhavi</td>\n",
              "      <td>Yuvajana Sramika Rythu\\rCongress Party</td>\n",
              "      <td>Andhra Pradesh</td>\n",
              "    </tr>\n",
              "    <tr>\n",
              "      <th>1</th>\n",
              "      <td>2</td>\n",
              "      <td>2-\\rSrikakulam</td>\n",
              "      <td>Kinjarapu Ram Mohan Naidu</td>\n",
              "      <td>Telugu Desam</td>\n",
              "      <td>Andhra Pradesh</td>\n",
              "    </tr>\n",
              "    <tr>\n",
              "      <th>2</th>\n",
              "      <td>3</td>\n",
              "      <td>3-\\rVizianagaram</td>\n",
              "      <td>Bellana Chandra Sekhar</td>\n",
              "      <td>Yuvajana Sramika Rythu\\rCongress Party</td>\n",
              "      <td>Andhra Pradesh</td>\n",
              "    </tr>\n",
              "    <tr>\n",
              "      <th>3</th>\n",
              "      <td>4</td>\n",
              "      <td>4-\\rVisakhapatnam</td>\n",
              "      <td>M V V Satyanarayana</td>\n",
              "      <td>Yuvajana Sramika Rythu\\rCongress Party</td>\n",
              "      <td>Andhra Pradesh</td>\n",
              "    </tr>\n",
              "    <tr>\n",
              "      <th>4</th>\n",
              "      <td>5</td>\n",
              "      <td>5-\\rAnakapalle</td>\n",
              "      <td>Dr.Beesetti Venkata Satyavathi</td>\n",
              "      <td>Yuvajana Sramika Rythu\\rCongress Party</td>\n",
              "      <td>Andhra Pradesh</td>\n",
              "    </tr>\n",
              "  </tbody>\n",
              "</table>\n",
              "</div>"
            ],
            "text/plain": [
              "   Sl. No.  ...           State\n",
              "0        1  ...  Andhra Pradesh\n",
              "1        2  ...  Andhra Pradesh\n",
              "2        3  ...  Andhra Pradesh\n",
              "3        4  ...  Andhra Pradesh\n",
              "4        5  ...  Andhra Pradesh\n",
              "\n",
              "[5 rows x 5 columns]"
            ]
          },
          "metadata": {
            "tags": []
          },
          "execution_count": 2
        }
      ]
    },
    {
      "cell_type": "markdown",
      "metadata": {
        "id": "HrqW6EBb4VBY",
        "colab_type": "text"
      },
      "source": [
        "Number of rows and column in election dataframe."
      ]
    },
    {
      "cell_type": "code",
      "metadata": {
        "id": "0ro3ycVQPTNM",
        "colab_type": "code",
        "outputId": "2642930f-d94f-4198-ad0e-fb8c2251b25d",
        "colab": {
          "base_uri": "https://localhost:8080/",
          "height": 35
        }
      },
      "source": [
        "election.shape"
      ],
      "execution_count": 3,
      "outputs": [
        {
          "output_type": "execute_result",
          "data": {
            "text/plain": [
              "(543, 5)"
            ]
          },
          "metadata": {
            "tags": []
          },
          "execution_count": 3
        }
      ]
    },
    {
      "cell_type": "code",
      "metadata": {
        "id": "nPKwZ9L6TyFN",
        "colab_type": "code",
        "outputId": "770330cb-90f3-4400-d6d7-4f8fbad12342",
        "colab": {
          "base_uri": "https://localhost:8080/",
          "height": 72
        }
      },
      "source": [
        "# list of columns \n",
        "election.columns"
      ],
      "execution_count": 4,
      "outputs": [
        {
          "output_type": "execute_result",
          "data": {
            "text/plain": [
              "Index(['Sl. No.', 'No. and Name of Parliamentary\\rConstituency',\n",
              "       'Name of the Elected\\rMember', 'Party Affiliation\\r(if any)', 'State'],\n",
              "      dtype='object')"
            ]
          },
          "metadata": {
            "tags": []
          },
          "execution_count": 4
        }
      ]
    },
    {
      "cell_type": "markdown",
      "metadata": {
        "id": "hF0bs-657Fjl",
        "colab_type": "text"
      },
      "source": [
        "### Renaming the column names "
      ]
    },
    {
      "cell_type": "code",
      "metadata": {
        "id": "PcuHWqtCTcJ3",
        "colab_type": "code",
        "colab": {}
      },
      "source": [
        "election.rename(columns={'No. and Name of Parliamentary\\rConstituency':'Constituency','Name of the Elected\\rMember':\n",
        "                         'Winning_Candidate','Party Affiliation\\r(if any)':'Party'}, inplace= True)"
      ],
      "execution_count": 0,
      "outputs": []
    },
    {
      "cell_type": "code",
      "metadata": {
        "id": "wNYSadsVUVYH",
        "colab_type": "code",
        "outputId": "33126301-3068-455f-fc87-44f1846efacf",
        "colab": {
          "base_uri": "https://localhost:8080/",
          "height": 198
        }
      },
      "source": [
        "election.head()"
      ],
      "execution_count": 6,
      "outputs": [
        {
          "output_type": "execute_result",
          "data": {
            "text/html": [
              "<div>\n",
              "<style scoped>\n",
              "    .dataframe tbody tr th:only-of-type {\n",
              "        vertical-align: middle;\n",
              "    }\n",
              "\n",
              "    .dataframe tbody tr th {\n",
              "        vertical-align: top;\n",
              "    }\n",
              "\n",
              "    .dataframe thead th {\n",
              "        text-align: right;\n",
              "    }\n",
              "</style>\n",
              "<table border=\"1\" class=\"dataframe\">\n",
              "  <thead>\n",
              "    <tr style=\"text-align: right;\">\n",
              "      <th></th>\n",
              "      <th>Sl. No.</th>\n",
              "      <th>Constituency</th>\n",
              "      <th>Winning_Candidate</th>\n",
              "      <th>Party</th>\n",
              "      <th>State</th>\n",
              "    </tr>\n",
              "  </thead>\n",
              "  <tbody>\n",
              "    <tr>\n",
              "      <th>0</th>\n",
              "      <td>1</td>\n",
              "      <td>1-\\rAraku (ST)</td>\n",
              "      <td>Goddeti. Madhavi</td>\n",
              "      <td>Yuvajana Sramika Rythu\\rCongress Party</td>\n",
              "      <td>Andhra Pradesh</td>\n",
              "    </tr>\n",
              "    <tr>\n",
              "      <th>1</th>\n",
              "      <td>2</td>\n",
              "      <td>2-\\rSrikakulam</td>\n",
              "      <td>Kinjarapu Ram Mohan Naidu</td>\n",
              "      <td>Telugu Desam</td>\n",
              "      <td>Andhra Pradesh</td>\n",
              "    </tr>\n",
              "    <tr>\n",
              "      <th>2</th>\n",
              "      <td>3</td>\n",
              "      <td>3-\\rVizianagaram</td>\n",
              "      <td>Bellana Chandra Sekhar</td>\n",
              "      <td>Yuvajana Sramika Rythu\\rCongress Party</td>\n",
              "      <td>Andhra Pradesh</td>\n",
              "    </tr>\n",
              "    <tr>\n",
              "      <th>3</th>\n",
              "      <td>4</td>\n",
              "      <td>4-\\rVisakhapatnam</td>\n",
              "      <td>M V V Satyanarayana</td>\n",
              "      <td>Yuvajana Sramika Rythu\\rCongress Party</td>\n",
              "      <td>Andhra Pradesh</td>\n",
              "    </tr>\n",
              "    <tr>\n",
              "      <th>4</th>\n",
              "      <td>5</td>\n",
              "      <td>5-\\rAnakapalle</td>\n",
              "      <td>Dr.Beesetti Venkata Satyavathi</td>\n",
              "      <td>Yuvajana Sramika Rythu\\rCongress Party</td>\n",
              "      <td>Andhra Pradesh</td>\n",
              "    </tr>\n",
              "  </tbody>\n",
              "</table>\n",
              "</div>"
            ],
            "text/plain": [
              "   Sl. No.  ...           State\n",
              "0        1  ...  Andhra Pradesh\n",
              "1        2  ...  Andhra Pradesh\n",
              "2        3  ...  Andhra Pradesh\n",
              "3        4  ...  Andhra Pradesh\n",
              "4        5  ...  Andhra Pradesh\n",
              "\n",
              "[5 rows x 5 columns]"
            ]
          },
          "metadata": {
            "tags": []
          },
          "execution_count": 6
        }
      ]
    },
    {
      "cell_type": "markdown",
      "metadata": {
        "id": "rEBb7eWR4sK5",
        "colab_type": "text"
      },
      "source": [
        "## Data Cleaning"
      ]
    },
    {
      "cell_type": "markdown",
      "metadata": {
        "id": "RlYqVcKY77tl",
        "colab_type": "text"
      },
      "source": [
        "Have you noticed that in the Constituency column there is some string part of constituency name is unwanted? so we can remove it using ReGex expression. "
      ]
    },
    {
      "cell_type": "code",
      "metadata": {
        "id": "uM_bUmWQUy1s",
        "colab_type": "code",
        "outputId": "e885c655-51bc-494d-c778-1921f914eaf9",
        "colab": {
          "base_uri": "https://localhost:8080/",
          "height": 198
        }
      },
      "source": [
        "election.Constituency.replace(regex= True, inplace=True, to_replace= r'\\d|-\\r|\\d|-', value='')\n",
        "election.head()"
      ],
      "execution_count": 7,
      "outputs": [
        {
          "output_type": "execute_result",
          "data": {
            "text/html": [
              "<div>\n",
              "<style scoped>\n",
              "    .dataframe tbody tr th:only-of-type {\n",
              "        vertical-align: middle;\n",
              "    }\n",
              "\n",
              "    .dataframe tbody tr th {\n",
              "        vertical-align: top;\n",
              "    }\n",
              "\n",
              "    .dataframe thead th {\n",
              "        text-align: right;\n",
              "    }\n",
              "</style>\n",
              "<table border=\"1\" class=\"dataframe\">\n",
              "  <thead>\n",
              "    <tr style=\"text-align: right;\">\n",
              "      <th></th>\n",
              "      <th>Sl. No.</th>\n",
              "      <th>Constituency</th>\n",
              "      <th>Winning_Candidate</th>\n",
              "      <th>Party</th>\n",
              "      <th>State</th>\n",
              "    </tr>\n",
              "  </thead>\n",
              "  <tbody>\n",
              "    <tr>\n",
              "      <th>0</th>\n",
              "      <td>1</td>\n",
              "      <td>Araku (ST)</td>\n",
              "      <td>Goddeti. Madhavi</td>\n",
              "      <td>Yuvajana Sramika Rythu\\rCongress Party</td>\n",
              "      <td>Andhra Pradesh</td>\n",
              "    </tr>\n",
              "    <tr>\n",
              "      <th>1</th>\n",
              "      <td>2</td>\n",
              "      <td>Srikakulam</td>\n",
              "      <td>Kinjarapu Ram Mohan Naidu</td>\n",
              "      <td>Telugu Desam</td>\n",
              "      <td>Andhra Pradesh</td>\n",
              "    </tr>\n",
              "    <tr>\n",
              "      <th>2</th>\n",
              "      <td>3</td>\n",
              "      <td>Vizianagaram</td>\n",
              "      <td>Bellana Chandra Sekhar</td>\n",
              "      <td>Yuvajana Sramika Rythu\\rCongress Party</td>\n",
              "      <td>Andhra Pradesh</td>\n",
              "    </tr>\n",
              "    <tr>\n",
              "      <th>3</th>\n",
              "      <td>4</td>\n",
              "      <td>Visakhapatnam</td>\n",
              "      <td>M V V Satyanarayana</td>\n",
              "      <td>Yuvajana Sramika Rythu\\rCongress Party</td>\n",
              "      <td>Andhra Pradesh</td>\n",
              "    </tr>\n",
              "    <tr>\n",
              "      <th>4</th>\n",
              "      <td>5</td>\n",
              "      <td>Anakapalle</td>\n",
              "      <td>Dr.Beesetti Venkata Satyavathi</td>\n",
              "      <td>Yuvajana Sramika Rythu\\rCongress Party</td>\n",
              "      <td>Andhra Pradesh</td>\n",
              "    </tr>\n",
              "  </tbody>\n",
              "</table>\n",
              "</div>"
            ],
            "text/plain": [
              "   Sl. No.  ...           State\n",
              "0        1  ...  Andhra Pradesh\n",
              "1        2  ...  Andhra Pradesh\n",
              "2        3  ...  Andhra Pradesh\n",
              "3        4  ...  Andhra Pradesh\n",
              "4        5  ...  Andhra Pradesh\n",
              "\n",
              "[5 rows x 5 columns]"
            ]
          },
          "metadata": {
            "tags": []
          },
          "execution_count": 7
        }
      ]
    },
    {
      "cell_type": "markdown",
      "metadata": {
        "id": "9Qa58Caq9AQG",
        "colab_type": "text"
      },
      "source": [
        "Similarly using regex pattern we replace \"\\r\" in party name with blank space. "
      ]
    },
    {
      "cell_type": "code",
      "metadata": {
        "id": "dLJs03xuWrug",
        "colab_type": "code",
        "outputId": "d3c9a3ec-5921-42bf-c34f-eec00676e10b",
        "colab": {
          "base_uri": "https://localhost:8080/",
          "height": 198
        }
      },
      "source": [
        "election.Party.replace(regex= True, inplace=True, to_replace= r'\\r', value=' ')\n",
        "election.head()"
      ],
      "execution_count": 8,
      "outputs": [
        {
          "output_type": "execute_result",
          "data": {
            "text/html": [
              "<div>\n",
              "<style scoped>\n",
              "    .dataframe tbody tr th:only-of-type {\n",
              "        vertical-align: middle;\n",
              "    }\n",
              "\n",
              "    .dataframe tbody tr th {\n",
              "        vertical-align: top;\n",
              "    }\n",
              "\n",
              "    .dataframe thead th {\n",
              "        text-align: right;\n",
              "    }\n",
              "</style>\n",
              "<table border=\"1\" class=\"dataframe\">\n",
              "  <thead>\n",
              "    <tr style=\"text-align: right;\">\n",
              "      <th></th>\n",
              "      <th>Sl. No.</th>\n",
              "      <th>Constituency</th>\n",
              "      <th>Winning_Candidate</th>\n",
              "      <th>Party</th>\n",
              "      <th>State</th>\n",
              "    </tr>\n",
              "  </thead>\n",
              "  <tbody>\n",
              "    <tr>\n",
              "      <th>0</th>\n",
              "      <td>1</td>\n",
              "      <td>Araku (ST)</td>\n",
              "      <td>Goddeti. Madhavi</td>\n",
              "      <td>Yuvajana Sramika Rythu Congress Party</td>\n",
              "      <td>Andhra Pradesh</td>\n",
              "    </tr>\n",
              "    <tr>\n",
              "      <th>1</th>\n",
              "      <td>2</td>\n",
              "      <td>Srikakulam</td>\n",
              "      <td>Kinjarapu Ram Mohan Naidu</td>\n",
              "      <td>Telugu Desam</td>\n",
              "      <td>Andhra Pradesh</td>\n",
              "    </tr>\n",
              "    <tr>\n",
              "      <th>2</th>\n",
              "      <td>3</td>\n",
              "      <td>Vizianagaram</td>\n",
              "      <td>Bellana Chandra Sekhar</td>\n",
              "      <td>Yuvajana Sramika Rythu Congress Party</td>\n",
              "      <td>Andhra Pradesh</td>\n",
              "    </tr>\n",
              "    <tr>\n",
              "      <th>3</th>\n",
              "      <td>4</td>\n",
              "      <td>Visakhapatnam</td>\n",
              "      <td>M V V Satyanarayana</td>\n",
              "      <td>Yuvajana Sramika Rythu Congress Party</td>\n",
              "      <td>Andhra Pradesh</td>\n",
              "    </tr>\n",
              "    <tr>\n",
              "      <th>4</th>\n",
              "      <td>5</td>\n",
              "      <td>Anakapalle</td>\n",
              "      <td>Dr.Beesetti Venkata Satyavathi</td>\n",
              "      <td>Yuvajana Sramika Rythu Congress Party</td>\n",
              "      <td>Andhra Pradesh</td>\n",
              "    </tr>\n",
              "  </tbody>\n",
              "</table>\n",
              "</div>"
            ],
            "text/plain": [
              "   Sl. No.  ...           State\n",
              "0        1  ...  Andhra Pradesh\n",
              "1        2  ...  Andhra Pradesh\n",
              "2        3  ...  Andhra Pradesh\n",
              "3        4  ...  Andhra Pradesh\n",
              "4        5  ...  Andhra Pradesh\n",
              "\n",
              "[5 rows x 5 columns]"
            ]
          },
          "metadata": {
            "tags": []
          },
          "execution_count": 8
        }
      ]
    },
    {
      "cell_type": "markdown",
      "metadata": {
        "id": "nF5_9c_r9_Ar",
        "colab_type": "text"
      },
      "source": [
        "We can count ; how many constituencies  in India ?"
      ]
    },
    {
      "cell_type": "code",
      "metadata": {
        "id": "tlSkXSoI9nK5",
        "colab_type": "code",
        "outputId": "d5012711-d1e0-484f-d072-5142f66e15a7",
        "colab": {
          "base_uri": "https://localhost:8080/",
          "height": 35
        }
      },
      "source": [
        "election.Constituency.count()"
      ],
      "execution_count": 9,
      "outputs": [
        {
          "output_type": "execute_result",
          "data": {
            "text/plain": [
              "543"
            ]
          },
          "metadata": {
            "tags": []
          },
          "execution_count": 9
        }
      ]
    },
    {
      "cell_type": "markdown",
      "metadata": {
        "id": "s5NfkcOu-LuL",
        "colab_type": "text"
      },
      "source": [
        "In General Loksabha Election 2019 there are 543  constituencies from which MPs are elected in India. This number can be maximum 552. "
      ]
    },
    {
      "cell_type": "markdown",
      "metadata": {
        "id": "5PYCOvgG_I7p",
        "colab_type": "text"
      },
      "source": [
        "How many statewise constituencies are  there ?"
      ]
    },
    {
      "cell_type": "code",
      "metadata": {
        "id": "VzkVmvvO_cBO",
        "colab_type": "code",
        "colab": {}
      },
      "source": [
        "state_constituency = election.groupby(by='State')\n"
      ],
      "execution_count": 0,
      "outputs": []
    },
    {
      "cell_type": "markdown",
      "metadata": {
        "id": "orCczwCbLWsk",
        "colab_type": "text"
      },
      "source": [
        "Here's the list of number of constituencies corresponding to state. "
      ]
    },
    {
      "cell_type": "code",
      "metadata": {
        "id": "eD24XzVAAFXR",
        "colab_type": "code",
        "outputId": "c89c6454-5b11-4156-a146-5da54a77d198",
        "colab": {
          "base_uri": "https://localhost:8080/",
          "height": 672
        }
      },
      "source": [
        "list_ = []\n",
        "for state in state_constituency.groups:\n",
        "    list_2 = []\n",
        "    list_2.append(state)\n",
        "    list_2.append(state_constituency.get_group(state).Constituency.count())\n",
        "    list_.append(list_2)\n",
        "\n",
        "list_\n",
        "\n"
      ],
      "execution_count": 11,
      "outputs": [
        {
          "output_type": "execute_result",
          "data": {
            "text/plain": [
              "[['Andaman & Nicobar Islands', 1],\n",
              " ['Andhra Pradesh', 25],\n",
              " ['Arunachal Pradesh', 2],\n",
              " ['Assam', 14],\n",
              " ['Bihar', 40],\n",
              " ['Chandigarh', 1],\n",
              " ['Chattisgarh', 11],\n",
              " ['Dadra & Nagar Haveli', 1],\n",
              " ['Daman & Diu', 1],\n",
              " ['Delhi', 7],\n",
              " ['Goa', 2],\n",
              " ['Gujrat', 26],\n",
              " ['Haryana', 10],\n",
              " ['Himachal Pradesh', 4],\n",
              " ['Jammu & Kashmir', 6],\n",
              " ['Jharkhand', 14],\n",
              " ['Karnataka', 28],\n",
              " ['Kerala', 20],\n",
              " ['Lakshadweep', 1],\n",
              " ['Madhya Pradesh', 29],\n",
              " ['Maharashtra', 48],\n",
              " ['Manipur', 2],\n",
              " ['Meghalaya', 2],\n",
              " ['Mizoram', 1],\n",
              " ['Nagaland', 1],\n",
              " ['Odisha', 21],\n",
              " ['Puducherry', 1],\n",
              " ['Punjab', 13],\n",
              " ['Rajasthan', 25],\n",
              " ['Sikkim', 1],\n",
              " ['Tamil Nadu', 39],\n",
              " ['Telangana', 17],\n",
              " ['Tripura', 2],\n",
              " ['Uttar Pradesh', 80],\n",
              " ['Uttarakhand', 5],\n",
              " ['West Bengal', 42]]"
            ]
          },
          "metadata": {
            "tags": []
          },
          "execution_count": 11
        }
      ]
    },
    {
      "cell_type": "markdown",
      "metadata": {
        "id": "lmwNjW2FL7qU",
        "colab_type": "text"
      },
      "source": [
        "Let's abbreviate Parties name  and add as a another column in dataframe\n"
      ]
    },
    {
      "cell_type": "code",
      "metadata": {
        "id": "AbZ-d9u5YMEE",
        "colab_type": "code",
        "colab": {}
      },
      "source": [
        "list_ = []\n",
        "for name in election.Party:\n",
        "     first = (\"\".join([letter[:1].upper() for letter in name.split(' ')]))\n",
        "     list_.append(first)"
      ],
      "execution_count": 0,
      "outputs": []
    },
    {
      "cell_type": "code",
      "metadata": {
        "id": "hkzly5xWY1PA",
        "colab_type": "code",
        "outputId": "f1428f2b-f4ee-4696-c085-41b930c24872",
        "colab": {
          "base_uri": "https://localhost:8080/",
          "height": 198
        }
      },
      "source": [
        "election['Symbol'] = list_\n",
        "election.head()"
      ],
      "execution_count": 13,
      "outputs": [
        {
          "output_type": "execute_result",
          "data": {
            "text/html": [
              "<div>\n",
              "<style scoped>\n",
              "    .dataframe tbody tr th:only-of-type {\n",
              "        vertical-align: middle;\n",
              "    }\n",
              "\n",
              "    .dataframe tbody tr th {\n",
              "        vertical-align: top;\n",
              "    }\n",
              "\n",
              "    .dataframe thead th {\n",
              "        text-align: right;\n",
              "    }\n",
              "</style>\n",
              "<table border=\"1\" class=\"dataframe\">\n",
              "  <thead>\n",
              "    <tr style=\"text-align: right;\">\n",
              "      <th></th>\n",
              "      <th>Sl. No.</th>\n",
              "      <th>Constituency</th>\n",
              "      <th>Winning_Candidate</th>\n",
              "      <th>Party</th>\n",
              "      <th>State</th>\n",
              "      <th>Symbol</th>\n",
              "    </tr>\n",
              "  </thead>\n",
              "  <tbody>\n",
              "    <tr>\n",
              "      <th>0</th>\n",
              "      <td>1</td>\n",
              "      <td>Araku (ST)</td>\n",
              "      <td>Goddeti. Madhavi</td>\n",
              "      <td>Yuvajana Sramika Rythu Congress Party</td>\n",
              "      <td>Andhra Pradesh</td>\n",
              "      <td>YSRCP</td>\n",
              "    </tr>\n",
              "    <tr>\n",
              "      <th>1</th>\n",
              "      <td>2</td>\n",
              "      <td>Srikakulam</td>\n",
              "      <td>Kinjarapu Ram Mohan Naidu</td>\n",
              "      <td>Telugu Desam</td>\n",
              "      <td>Andhra Pradesh</td>\n",
              "      <td>TD</td>\n",
              "    </tr>\n",
              "    <tr>\n",
              "      <th>2</th>\n",
              "      <td>3</td>\n",
              "      <td>Vizianagaram</td>\n",
              "      <td>Bellana Chandra Sekhar</td>\n",
              "      <td>Yuvajana Sramika Rythu Congress Party</td>\n",
              "      <td>Andhra Pradesh</td>\n",
              "      <td>YSRCP</td>\n",
              "    </tr>\n",
              "    <tr>\n",
              "      <th>3</th>\n",
              "      <td>4</td>\n",
              "      <td>Visakhapatnam</td>\n",
              "      <td>M V V Satyanarayana</td>\n",
              "      <td>Yuvajana Sramika Rythu Congress Party</td>\n",
              "      <td>Andhra Pradesh</td>\n",
              "      <td>YSRCP</td>\n",
              "    </tr>\n",
              "    <tr>\n",
              "      <th>4</th>\n",
              "      <td>5</td>\n",
              "      <td>Anakapalle</td>\n",
              "      <td>Dr.Beesetti Venkata Satyavathi</td>\n",
              "      <td>Yuvajana Sramika Rythu Congress Party</td>\n",
              "      <td>Andhra Pradesh</td>\n",
              "      <td>YSRCP</td>\n",
              "    </tr>\n",
              "  </tbody>\n",
              "</table>\n",
              "</div>"
            ],
            "text/plain": [
              "   Sl. No.   Constituency  ...           State Symbol\n",
              "0        1     Araku (ST)  ...  Andhra Pradesh  YSRCP\n",
              "1        2     Srikakulam  ...  Andhra Pradesh     TD\n",
              "2        3   Vizianagaram  ...  Andhra Pradesh  YSRCP\n",
              "3        4  Visakhapatnam  ...  Andhra Pradesh  YSRCP\n",
              "4        5     Anakapalle  ...  Andhra Pradesh  YSRCP\n",
              "\n",
              "[5 rows x 6 columns]"
            ]
          },
          "metadata": {
            "tags": []
          },
          "execution_count": 13
        }
      ]
    },
    {
      "cell_type": "markdown",
      "metadata": {
        "id": "C_iqcqe5MX22",
        "colab_type": "text"
      },
      "source": [
        "Lets count each parties winning seat in this election."
      ]
    },
    {
      "cell_type": "code",
      "metadata": {
        "id": "2bKhCaiyajV1",
        "colab_type": "code",
        "colab": {}
      },
      "source": [
        "party_count = election.groupby(by ='Symbol')\n"
      ],
      "execution_count": 0,
      "outputs": []
    },
    {
      "cell_type": "code",
      "metadata": {
        "id": "COtMtd0xa8br",
        "colab_type": "code",
        "outputId": "2fbdb395-6375-4c19-d07c-a074189b3b1f",
        "colab": {
          "base_uri": "https://localhost:8080/",
          "height": 708
        }
      },
      "source": [
        "stat = []\n",
        "for name in party_count.groups:\n",
        "    list_ = []\n",
        "    list_.append(name)\n",
        "    list_.append(party_count.get_group(name).Symbol.count())\n",
        "    stat.append(list_)\n",
        "    \n",
        "    \n",
        "stat"
      ],
      "execution_count": 15,
      "outputs": [
        {
          "output_type": "execute_result",
          "data": {
            "text/plain": [
              "[['AAP', 1],\n",
              " ['ADS', 2],\n",
              " ['AIADMK', 1],\n",
              " ['AIMM', 2],\n",
              " ['AITC', 22],\n",
              " ['AIUDF', 1],\n",
              " ['AJSUP', 1],\n",
              " ['BJD', 12],\n",
              " ['BJP', 303],\n",
              " ['BSP', 10],\n",
              " ['CPOI', 2],\n",
              " ['CPOIM', 3],\n",
              " ['DMK', 23],\n",
              " ['I', 4],\n",
              " ['INC', 52],\n",
              " ['IUML', 3],\n",
              " ['J&KNC', 3],\n",
              " ['JDS', 1],\n",
              " ['JDU', 16],\n",
              " ['JMM', 1],\n",
              " ['KCM', 1],\n",
              " ['LJSP', 6],\n",
              " ['MNF', 1],\n",
              " ['NCP', 5],\n",
              " ['NDPP', 1],\n",
              " ['NPF', 1],\n",
              " ['NPP', 1],\n",
              " ['RLP', 1],\n",
              " ['RSP', 1],\n",
              " ['SAD', 2],\n",
              " ['SKM', 1],\n",
              " ['SP', 5],\n",
              " ['SS', 18],\n",
              " ['TD', 3],\n",
              " ['TRS', 9],\n",
              " ['V', 1],\n",
              " ['VCK', 1],\n",
              " ['YSRCP', 22]]"
            ]
          },
          "metadata": {
            "tags": []
          },
          "execution_count": 15
        }
      ]
    },
    {
      "cell_type": "markdown",
      "metadata": {
        "id": "7bt8GExwQkZv",
        "colab_type": "text"
      },
      "source": [
        "Here's the number of seats are won by party in each state.\n"
      ]
    },
    {
      "cell_type": "code",
      "metadata": {
        "id": "9Uz-qMF97fCI",
        "colab_type": "code",
        "outputId": "9cf075cf-e8c5-4195-d054-461b3696b28d",
        "colab": {
          "base_uri": "https://localhost:8080/",
          "height": 1000
        }
      },
      "source": [
        "data =  election.groupby(by=['State', 'Symbol'])\n",
        "data.Symbol.count()"
      ],
      "execution_count": 16,
      "outputs": [
        {
          "output_type": "execute_result",
          "data": {
            "text/plain": [
              "State                      Symbol\n",
              "Andaman & Nicobar Islands  INC        1\n",
              "Andhra Pradesh             TD         3\n",
              "                           YSRCP     22\n",
              "Arunachal Pradesh          BJP        2\n",
              "Assam                      AIUDF      1\n",
              "                           BJP        9\n",
              "                           I          1\n",
              "                           INC        3\n",
              "Bihar                      BJP       17\n",
              "                           INC        1\n",
              "                           JDU       16\n",
              "                           LJSP       6\n",
              "Chandigarh                 BJP        1\n",
              "Chattisgarh                BJP        9\n",
              "                           INC        2\n",
              "Dadra & Nagar Haveli       I          1\n",
              "Daman & Diu                BJP        1\n",
              "Delhi                      BJP        7\n",
              "Goa                        BJP        1\n",
              "                           INC        1\n",
              "Gujrat                     BJP       26\n",
              "Haryana                    BJP       10\n",
              "Himachal Pradesh           BJP        4\n",
              "Jammu & Kashmir            BJP        3\n",
              "                           J&KNC      3\n",
              "Jharkhand                  AJSUP      1\n",
              "                           BJP       11\n",
              "                           INC        1\n",
              "                           JMM        1\n",
              "Karnataka                  BJP       25\n",
              "                                     ..\n",
              "Puducherry                 INC        1\n",
              "Punjab                     AAP        1\n",
              "                           BJP        2\n",
              "                           INC        8\n",
              "                           SAD        2\n",
              "Rajasthan                  BJP       24\n",
              "                           RLP        1\n",
              "Sikkim                     SKM        1\n",
              "Tamil Nadu                 AIADMK     1\n",
              "                           CPOI       2\n",
              "                           CPOIM      2\n",
              "                           DMK       23\n",
              "                           INC        8\n",
              "                           IUML       1\n",
              "                           V          1\n",
              "                           VCK        1\n",
              "Telangana                  AIMM       1\n",
              "                           BJP        4\n",
              "                           INC        3\n",
              "                           TRS        9\n",
              "Tripura                    BJP        2\n",
              "Uttar Pradesh              ADS        2\n",
              "                           BJP       62\n",
              "                           BSP       10\n",
              "                           INC        1\n",
              "                           SP         5\n",
              "Uttarakhand                BJP        5\n",
              "West Bengal                AITC      22\n",
              "                           BJP       18\n",
              "                           INC        2\n",
              "Name: Symbol, Length: 86, dtype: int64"
            ]
          },
          "metadata": {
            "tags": []
          },
          "execution_count": 16
        }
      ]
    },
    {
      "cell_type": "code",
      "metadata": {
        "id": "HsxA2BdTTAzJ",
        "colab_type": "code",
        "colab": {}
      },
      "source": [
        ""
      ],
      "execution_count": 0,
      "outputs": []
    }
  ]
}